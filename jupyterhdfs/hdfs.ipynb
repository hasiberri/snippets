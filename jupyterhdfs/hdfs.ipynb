{
 "cells": [
  {
   "cell_type": "markdown",
   "metadata": {},
   "source": [
    "# HDFS with Jupyter"
   ]
  },
  {
   "cell_type": "markdown",
   "metadata": {},
   "source": [
    "This notebook shows simple snippets to access and work with a remote hdfs. The packages pyarrow and hdfs3 will be used for this. For api details about these packages:\n",
    "\n",
    "https://hdfs3.readthedocs.io/en/latest/api.html\n",
    "\n",
    "https://arrow.apache.org/docs/python/api.html\n",
    "\n",
    "In order to make this snippets work, the variable \"nameNodeHost\" must be properly set based on the hdfs namenode location in the deployment."
   ]
  },
  {
   "cell_type": "markdown",
   "metadata": {},
   "source": [
    "## Connect to hdfs namenode"
   ]
  },
  {
   "cell_type": "code",
   "execution_count": 4,
   "metadata": {},
   "outputs": [
    {
     "data": {
      "text/plain": [
       "['/user/hive', '/user/myname']"
      ]
     },
     "execution_count": 4,
     "metadata": {},
     "output_type": "execute_result"
    }
   ],
   "source": [
    "# Connect to hdfs\n",
    "import os\n",
    "import pandas as pd\n",
    "import hdfs3\n",
    "import pyarrow as pa\n",
    "import pandas as pd\n",
    "\n",
    "nameNodeHost = 'jupyterhdfs_namenode'\n",
    "nameNodeIPCPort = 8020\n",
    "hdfs = hdfs3.HDFileSystem(nameNodeHost, port=nameNodeIPCPort)"
   ]
  },
  {
   "cell_type": "markdown",
   "metadata": {},
   "source": [
    "## CSV files with Hdfs"
   ]
  },
  {
   "cell_type": "markdown",
   "metadata": {},
   "source": [
    "### Create folders and files in hdfs"
   ]
  },
  {
   "cell_type": "code",
   "execution_count": 50,
   "metadata": {},
   "outputs": [
    {
     "name": "stdout",
     "output_type": "stream",
     "text": [
      "Local files: ['.ipynb_checkpoints', 'example.csv', 'copy.csv'] \n",
      "Content of local /example.csv: \n"
     ]
    },
    {
     "data": {
      "text/html": [
       "<div>\n",
       "<style scoped>\n",
       "    .dataframe tbody tr th:only-of-type {\n",
       "        vertical-align: middle;\n",
       "    }\n",
       "\n",
       "    .dataframe tbody tr th {\n",
       "        vertical-align: top;\n",
       "    }\n",
       "\n",
       "    .dataframe thead th {\n",
       "        text-align: right;\n",
       "    }\n",
       "</style>\n",
       "<table border=\"1\" class=\"dataframe\">\n",
       "  <thead>\n",
       "    <tr style=\"text-align: right;\">\n",
       "      <th></th>\n",
       "      <th>name</th>\n",
       "      <th>age</th>\n",
       "    </tr>\n",
       "  </thead>\n",
       "  <tbody>\n",
       "    <tr>\n",
       "      <th>0</th>\n",
       "      <td>john</td>\n",
       "      <td>22</td>\n",
       "    </tr>\n",
       "    <tr>\n",
       "      <th>1</th>\n",
       "      <td>mary</td>\n",
       "      <td>34</td>\n",
       "    </tr>\n",
       "  </tbody>\n",
       "</table>\n",
       "</div>"
      ],
      "text/plain": [
       "   name  age\n",
       "0  john   22\n",
       "1  mary   34"
      ]
     },
     "execution_count": 50,
     "metadata": {},
     "output_type": "execute_result"
    }
   ],
   "source": [
    "# Display example.csv file\n",
    "localPath = os.getcwd()\n",
    "dataPath = localPath + '/data'\n",
    "csvFile = '/example.csv'\n",
    "\n",
    "print (\"Local files: %s \" % os.listdir(dataPath))\n",
    "print (\"Content of local %s: \" % csvFile)\n",
    "df = pd.read_csv(dataPath + csvFile)\n",
    "df"
   ]
  },
  {
   "cell_type": "code",
   "execution_count": 48,
   "metadata": {},
   "outputs": [
    {
     "name": "stdout",
     "output_type": "stream",
     "text": [
      "Hdfs files: ['/user/lainotik/example.csv'] \n"
     ]
    }
   ],
   "source": [
    "# Create folder in hdfs under /user and copy the local csv file\n",
    "localPath = os.getcwd()\n",
    "dataPath = localPath + '/data'\n",
    "hdfspath = '/user/lainotik'\n",
    "\n",
    "hdfs.mkdir(hdfspath)\n",
    "hdfs.put(dataPath + csvFile, hdfspath + csvFile)\n",
    "print (\"Hdfs files: %s \" % hdfs.ls(hdfspath, detail=False))"
   ]
  },
  {
   "cell_type": "markdown",
   "metadata": {},
   "source": [
    "### Get Files from hdfs"
   ]
  },
  {
   "cell_type": "code",
   "execution_count": 51,
   "metadata": {},
   "outputs": [
    {
     "name": "stdout",
     "output_type": "stream",
     "text": [
      "Local files: ['.ipynb_checkpoints', 'example.csv', 'copy.csv'] \n",
      "Content of /copy.csv: \n"
     ]
    },
    {
     "data": {
      "text/html": [
       "<div>\n",
       "<style scoped>\n",
       "    .dataframe tbody tr th:only-of-type {\n",
       "        vertical-align: middle;\n",
       "    }\n",
       "\n",
       "    .dataframe tbody tr th {\n",
       "        vertical-align: top;\n",
       "    }\n",
       "\n",
       "    .dataframe thead th {\n",
       "        text-align: right;\n",
       "    }\n",
       "</style>\n",
       "<table border=\"1\" class=\"dataframe\">\n",
       "  <thead>\n",
       "    <tr style=\"text-align: right;\">\n",
       "      <th></th>\n",
       "      <th>name</th>\n",
       "      <th>age</th>\n",
       "    </tr>\n",
       "  </thead>\n",
       "  <tbody>\n",
       "    <tr>\n",
       "      <th>0</th>\n",
       "      <td>john</td>\n",
       "      <td>22</td>\n",
       "    </tr>\n",
       "    <tr>\n",
       "      <th>1</th>\n",
       "      <td>mary</td>\n",
       "      <td>34</td>\n",
       "    </tr>\n",
       "  </tbody>\n",
       "</table>\n",
       "</div>"
      ],
      "text/plain": [
       "   name  age\n",
       "0  john   22\n",
       "1  mary   34"
      ]
     },
     "execution_count": 51,
     "metadata": {},
     "output_type": "execute_result"
    }
   ],
   "source": [
    "# Copy just created file from hdfs to local\n",
    "csvFileCopy = '/copy.csv'\n",
    "\n",
    "hdfs.get(hdfspath + csvFile, dataPath + csvFileCopy)\n",
    "print (\"Local files: %s \" % os.listdir(dataPath))\n",
    "print (\"Content of %s: \" % csvFileCopy)\n",
    "df = pd.read_csv(dataPath + csvFileCopy)\n",
    "df"
   ]
  },
  {
   "cell_type": "markdown",
   "metadata": {},
   "source": [
    "### Delete folder and files in hdfs"
   ]
  },
  {
   "cell_type": "code",
   "execution_count": 52,
   "metadata": {},
   "outputs": [
    {
     "name": "stdout",
     "output_type": "stream",
     "text": [
      "Hdfs files: [] \n",
      "Hdfs folders under user: ['/user/hive'] \n"
     ]
    }
   ],
   "source": [
    "# Delete hdfs file\n",
    "hdfs.rm(hdfspath + csvFile)\n",
    "print (\"Hdfs files: %s \" % hdfs.ls(hdfspath, detail=False))\n",
    "\n",
    "# Delete hdfs folder.\n",
    "hdfs.rm(hdfspath)\n",
    "print (\"Hdfs folders under user: %s \" % hdfs.ls('/user'))\n",
    "\n",
    "# Note: If the folder has any content this will fail. To remove a folder with content use hdfs.rm(hdfspath, -r) \n",
    "\n",
    "# The local csv copy will also be removed\n",
    "os. remove(dataPath + csvFileCopy)"
   ]
  },
  {
   "cell_type": "markdown",
   "metadata": {},
   "source": [
    "## Parquet files with Hdfs"
   ]
  },
  {
   "cell_type": "code",
   "execution_count": 55,
   "metadata": {},
   "outputs": [],
   "source": [
    "import pyarrow.parquet as pq"
   ]
  },
  {
   "cell_type": "code",
   "execution_count": null,
   "metadata": {},
   "outputs": [],
   "source": []
  }
 ],
 "metadata": {
  "kernelspec": {
   "display_name": "Python 3",
   "language": "python",
   "name": "python3"
  },
  "language_info": {
   "codemirror_mode": {
    "name": "ipython",
    "version": 3
   },
   "file_extension": ".py",
   "mimetype": "text/x-python",
   "name": "python",
   "nbconvert_exporter": "python",
   "pygments_lexer": "ipython3",
   "version": "3.7.6"
  }
 },
 "nbformat": 4,
 "nbformat_minor": 4
}
