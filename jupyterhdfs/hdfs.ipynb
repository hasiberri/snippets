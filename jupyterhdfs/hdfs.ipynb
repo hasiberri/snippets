{
 "cells": [
  {
   "cell_type": "markdown",
   "metadata": {},
   "source": [
    "# HDFS with Jupyter"
   ]
  },
  {
   "cell_type": "markdown",
   "metadata": {},
   "source": [
    "This notebook shows simple snippets to access and work with a remote hdfs with datafiles of different formats (csv, parquet, orc). The packages pyarrow and hdfs3 will be used for this. For api details about these packages:\n",
    "\n",
    "https://hdfs3.readthedocs.io/en/latest/api.html\n",
    "\n",
    "https://arrow.apache.org/docs/python/api.html\n",
    "\n",
    "In order to make this snippets work, the variable \"nameNodeHost\" must be properly set based on the remote hdfs namenode location."
   ]
  },
  {
   "cell_type": "markdown",
   "metadata": {},
   "source": [
    "## Connect to hdfs namenode"
   ]
  },
  {
   "cell_type": "code",
   "execution_count": 24,
   "metadata": {},
   "outputs": [],
   "source": [
    "# Connect to hdfs\n",
    "import os\n",
    "import pandas as pd\n",
    "import hdfs3\n",
    "import pyarrow as pa\n",
    "\n",
    "nameNodeHost = 'jupyterhdfs_namenode'\n",
    "nameNodeIPCPort = 8020\n",
    "hdfs = hdfs3.HDFileSystem(nameNodeHost, port=nameNodeIPCPort)"
   ]
  },
  {
   "cell_type": "markdown",
   "metadata": {},
   "source": [
    "## CSV files with Hdfs"
   ]
  },
  {
   "cell_type": "markdown",
   "metadata": {},
   "source": [
    "### Create folder and put csv file in hdfs"
   ]
  },
  {
   "cell_type": "code",
   "execution_count": 25,
   "metadata": {},
   "outputs": [
    {
     "name": "stdout",
     "output_type": "stream",
     "text": [
      "Local data files: ['example.csv'] \n",
      "Content of local data /example.csv: \n"
     ]
    },
    {
     "data": {
      "text/html": [
       "<div>\n",
       "<style scoped>\n",
       "    .dataframe tbody tr th:only-of-type {\n",
       "        vertical-align: middle;\n",
       "    }\n",
       "\n",
       "    .dataframe tbody tr th {\n",
       "        vertical-align: top;\n",
       "    }\n",
       "\n",
       "    .dataframe thead th {\n",
       "        text-align: right;\n",
       "    }\n",
       "</style>\n",
       "<table border=\"1\" class=\"dataframe\">\n",
       "  <thead>\n",
       "    <tr style=\"text-align: right;\">\n",
       "      <th></th>\n",
       "      <th>name</th>\n",
       "      <th>age</th>\n",
       "    </tr>\n",
       "  </thead>\n",
       "  <tbody>\n",
       "    <tr>\n",
       "      <th>0</th>\n",
       "      <td>john</td>\n",
       "      <td>22</td>\n",
       "    </tr>\n",
       "    <tr>\n",
       "      <th>1</th>\n",
       "      <td>mary</td>\n",
       "      <td>34</td>\n",
       "    </tr>\n",
       "  </tbody>\n",
       "</table>\n",
       "</div>"
      ],
      "text/plain": [
       "   name  age\n",
       "0  john   22\n",
       "1  mary   34"
      ]
     },
     "execution_count": 25,
     "metadata": {},
     "output_type": "execute_result"
    }
   ],
   "source": [
    "# Display example.csv file\n",
    "localPath = os.getcwd()\n",
    "dataPath = localPath + '/data'\n",
    "csvFile = '/example.csv'\n",
    "\n",
    "print (\"Local data files: %s \" % os.listdir(dataPath))\n",
    "print (\"Content of local data %s: \" % csvFile)\n",
    "df = pd.read_csv(dataPath + csvFile)\n",
    "df"
   ]
  },
  {
   "cell_type": "code",
   "execution_count": 26,
   "metadata": {},
   "outputs": [
    {
     "name": "stdout",
     "output_type": "stream",
     "text": [
      "Hdfs files: ['/user/lainotik/example.csv'] \n"
     ]
    }
   ],
   "source": [
    "# Create folder in hdfs under /user and copy the local csv file\n",
    "localPath = os.getcwd()\n",
    "dataPath = localPath + '/data'\n",
    "hdfspath = '/user/lainotik'\n",
    "\n",
    "hdfs.mkdir(hdfspath)\n",
    "hdfs.put(dataPath + csvFile, hdfspath + csvFile)\n",
    "print (\"Hdfs files: %s \" % hdfs.ls(hdfspath, detail=False))"
   ]
  },
  {
   "cell_type": "markdown",
   "metadata": {},
   "source": [
    "### Get csv File from hdfs"
   ]
  },
  {
   "cell_type": "code",
   "execution_count": 27,
   "metadata": {},
   "outputs": [
    {
     "name": "stdout",
     "output_type": "stream",
     "text": [
      "Local files: ['example.csv', 'copy.csv'] \n",
      "Content of local data /copy.csv: \n"
     ]
    },
    {
     "data": {
      "text/html": [
       "<div>\n",
       "<style scoped>\n",
       "    .dataframe tbody tr th:only-of-type {\n",
       "        vertical-align: middle;\n",
       "    }\n",
       "\n",
       "    .dataframe tbody tr th {\n",
       "        vertical-align: top;\n",
       "    }\n",
       "\n",
       "    .dataframe thead th {\n",
       "        text-align: right;\n",
       "    }\n",
       "</style>\n",
       "<table border=\"1\" class=\"dataframe\">\n",
       "  <thead>\n",
       "    <tr style=\"text-align: right;\">\n",
       "      <th></th>\n",
       "      <th>name</th>\n",
       "      <th>age</th>\n",
       "    </tr>\n",
       "  </thead>\n",
       "  <tbody>\n",
       "    <tr>\n",
       "      <th>0</th>\n",
       "      <td>john</td>\n",
       "      <td>22</td>\n",
       "    </tr>\n",
       "    <tr>\n",
       "      <th>1</th>\n",
       "      <td>mary</td>\n",
       "      <td>34</td>\n",
       "    </tr>\n",
       "  </tbody>\n",
       "</table>\n",
       "</div>"
      ],
      "text/plain": [
       "   name  age\n",
       "0  john   22\n",
       "1  mary   34"
      ]
     },
     "execution_count": 27,
     "metadata": {},
     "output_type": "execute_result"
    }
   ],
   "source": [
    "# Copy just created file from hdfs to local\n",
    "csvFileCopy = '/copy.csv'\n",
    "\n",
    "hdfs.get(hdfspath + csvFile, dataPath + csvFileCopy)\n",
    "print (\"Local files: %s \" % os.listdir(dataPath))\n",
    "print (\"Content of local data %s: \" % csvFileCopy)\n",
    "df = pd.read_csv(dataPath + csvFileCopy)\n",
    "df"
   ]
  },
  {
   "cell_type": "markdown",
   "metadata": {},
   "source": [
    "### Delete folder and csv file in hdfs"
   ]
  },
  {
   "cell_type": "code",
   "execution_count": 28,
   "metadata": {},
   "outputs": [
    {
     "name": "stdout",
     "output_type": "stream",
     "text": [
      "Hdfs files: [] \n",
      "Hdfs folders under user: ['/user/hive'] \n"
     ]
    }
   ],
   "source": [
    "# Delete hdfs file\n",
    "hdfs.rm(hdfspath + csvFile)\n",
    "print (\"Hdfs files: %s \" % hdfs.ls(hdfspath, detail=False))\n",
    "\n",
    "# Delete hdfs folder.\n",
    "hdfs.rm(hdfspath)\n",
    "print (\"Hdfs folders under user: %s \" % hdfs.ls('/user'))\n",
    "\n",
    "# Note: If the folder has any content this will fail. To remove a folder with content use hdfs.rm(hdfspath, -r) \n",
    "\n",
    "# The local csv copy will also be removed\n",
    "os. remove(dataPath + csvFileCopy)"
   ]
  },
  {
   "cell_type": "markdown",
   "metadata": {},
   "source": [
    "## Parquet files with Hdfs"
   ]
  },
  {
   "cell_type": "markdown",
   "metadata": {},
   "source": [
    "### Convert local csv file to parquet"
   ]
  },
  {
   "cell_type": "code",
   "execution_count": 42,
   "metadata": {},
   "outputs": [
    {
     "name": "stdout",
     "output_type": "stream",
     "text": [
      "Local data files: ['example.csv', 'example.parquet'] \n"
     ]
    }
   ],
   "source": [
    "import pyarrow.parquet as pq\n",
    "\n",
    "# Convert local csv file to local parquet\n",
    "localPath = os.getcwd()\n",
    "dataPath = localPath + '/data'\n",
    "csvFile = '/example.csv'\n",
    "parquetFile = '/example.parquet'\n",
    "\n",
    "df = pd.read_csv(dataPath + csvFile)\n",
    "table = pa.Table.from_pandas(df)\n",
    "pq.write_table(table, dataPath + parquetFile)\n",
    "print (\"Local data files: %s \" % os.listdir(dataPath))"
   ]
  },
  {
   "cell_type": "markdown",
   "metadata": {},
   "source": [
    "### Create folder and put parquet file in hdfs"
   ]
  },
  {
   "cell_type": "code",
   "execution_count": 43,
   "metadata": {},
   "outputs": [
    {
     "name": "stdout",
     "output_type": "stream",
     "text": [
      "Hdfs files: ['/user/lainotik/example.parquet'] \n"
     ]
    }
   ],
   "source": [
    "# Create folder in hdfs under /user and copy the local csv file\n",
    "localPath = os.getcwd()\n",
    "dataPath = localPath + '/data'\n",
    "hdfspath = '/user/lainotik'\n",
    "\n",
    "hdfs.mkdir(hdfspath)\n",
    "hdfs.put(dataPath + parquetFile, hdfspath + parquetFile)\n",
    "print (\"Hdfs files: %s \" % hdfs.ls(hdfspath, detail=False))"
   ]
  },
  {
   "cell_type": "markdown",
   "metadata": {},
   "source": [
    "### Get parquet File from hdfs"
   ]
  },
  {
   "cell_type": "code",
   "execution_count": 44,
   "metadata": {},
   "outputs": [
    {
     "name": "stdout",
     "output_type": "stream",
     "text": [
      "Local files: ['copy.parquet', 'example.csv', 'example.parquet'] \n",
      "Content of local data /copy.parquet: \n"
     ]
    },
    {
     "data": {
      "text/html": [
       "<div>\n",
       "<style scoped>\n",
       "    .dataframe tbody tr th:only-of-type {\n",
       "        vertical-align: middle;\n",
       "    }\n",
       "\n",
       "    .dataframe tbody tr th {\n",
       "        vertical-align: top;\n",
       "    }\n",
       "\n",
       "    .dataframe thead th {\n",
       "        text-align: right;\n",
       "    }\n",
       "</style>\n",
       "<table border=\"1\" class=\"dataframe\">\n",
       "  <thead>\n",
       "    <tr style=\"text-align: right;\">\n",
       "      <th></th>\n",
       "      <th>name</th>\n",
       "      <th>age</th>\n",
       "    </tr>\n",
       "  </thead>\n",
       "  <tbody>\n",
       "    <tr>\n",
       "      <th>0</th>\n",
       "      <td>john</td>\n",
       "      <td>22</td>\n",
       "    </tr>\n",
       "    <tr>\n",
       "      <th>1</th>\n",
       "      <td>mary</td>\n",
       "      <td>34</td>\n",
       "    </tr>\n",
       "  </tbody>\n",
       "</table>\n",
       "</div>"
      ],
      "text/plain": [
       "   name  age\n",
       "0  john   22\n",
       "1  mary   34"
      ]
     },
     "execution_count": 44,
     "metadata": {},
     "output_type": "execute_result"
    }
   ],
   "source": [
    "# Copy just created file from hdfs to local\n",
    "parquetFileCopy = '/copy.parquet'\n",
    "\n",
    "hdfs.get(hdfspath + parquetFile, dataPath + parquetFileCopy)\n",
    "print (\"Local files: %s \" % os.listdir(dataPath))\n",
    "print (\"Content of local data %s: \" % parquetFileCopy)\n",
    "df = pd.read_parquet(dataPath + parquetFileCopy, engine='pyarrow')\n",
    "df"
   ]
  },
  {
   "cell_type": "markdown",
   "metadata": {},
   "source": [
    "### Delete folder and parquet file"
   ]
  },
  {
   "cell_type": "code",
   "execution_count": 45,
   "metadata": {},
   "outputs": [
    {
     "name": "stdout",
     "output_type": "stream",
     "text": [
      "Hdfs files: [] \n",
      "Hdfs folders under user: ['/user/hive'] \n"
     ]
    }
   ],
   "source": [
    "# Delete hdfs file\n",
    "hdfs.rm(hdfspath + parquetFile)\n",
    "print (\"Hdfs files: %s \" % hdfs.ls(hdfspath, detail=False))\n",
    "\n",
    "# Delete hdfs folder.\n",
    "hdfs.rm(hdfspath)\n",
    "print (\"Hdfs folders under user: %s \" % hdfs.ls('/user'))\n",
    "\n",
    "# Note: If the folder has any content this will fail. To remove a folder with content use hdfs.rm(hdfspath, -r) \n",
    "\n",
    "# The local parquet files will also be removed\n",
    "os. remove(dataPath + parquetFileCopy)\n",
    "os. remove(dataPath + parquetFile)"
   ]
  },
  {
   "cell_type": "markdown",
   "metadata": {},
   "source": [
    "## ORC files with Hdfs"
   ]
  },
  {
   "cell_type": "markdown",
   "metadata": {},
   "source": [
    "### Convert local csv file to ORC"
   ]
  },
  {
   "cell_type": "code",
   "execution_count": 46,
   "metadata": {},
   "outputs": [],
   "source": [
    "import pyarrow.orc as po"
   ]
  },
  {
   "cell_type": "markdown",
   "metadata": {},
   "source": [
    "It seems that there is functionality to read orc files in pyarrow, but not to write a table in orc format:\n",
    "\n",
    "df = pd.read_orc(dataPath + orcFile, engine='pyarrow')"
   ]
  }
 ],
 "metadata": {
  "kernelspec": {
   "display_name": "Python 3",
   "language": "python",
   "name": "python3"
  },
  "language_info": {
   "codemirror_mode": {
    "name": "ipython",
    "version": 3
   },
   "file_extension": ".py",
   "mimetype": "text/x-python",
   "name": "python",
   "nbconvert_exporter": "python",
   "pygments_lexer": "ipython3",
   "version": "3.7.6"
  }
 },
 "nbformat": 4,
 "nbformat_minor": 4
}
