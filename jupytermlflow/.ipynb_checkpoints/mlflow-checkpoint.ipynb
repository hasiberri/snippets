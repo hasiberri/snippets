{
 "cells": [
  {
   "cell_type": "markdown",
   "metadata": {},
   "source": [
    "# MLFLOW in Jupyter"
   ]
  },
  {
   "cell_type": "markdown",
   "metadata": {},
   "source": [
    "MLFLOW is an opensource framework to manage all the lifecycle of a machine learning project. This is a summary of the functionality it offers:"
   ]
  },
  {
   "cell_type": "markdown",
   "metadata": {},
   "source": [
    "<img src=\"data/mlflow.png\" width=500 height=500 />"
   ]
  },
  {
   "cell_type": "markdown",
   "metadata": {},
   "source": [
    "As Jupyter is fully integrated with mlflow, in this notebook some examples will be shown describing the way they can work together."
   ]
  },
  {
   "cell_type": "markdown",
   "metadata": {},
   "source": [
    "## Libraries"
   ]
  },
  {
   "cell_type": "markdown",
   "metadata": {},
   "source": [
    "Load libraries and get basic settings information"
   ]
  },
  {
   "cell_type": "code",
   "execution_count": 3,
   "metadata": {},
   "outputs": [],
   "source": [
    "import os\n",
    "from pathlib import Path\n",
    "import mlflow\n",
    "from mlflow import log_metric, log_param, log_artifact"
   ]
  },
  {
   "cell_type": "code",
   "execution_count": 4,
   "metadata": {},
   "outputs": [
    {
     "name": "stdout",
     "output_type": "stream",
     "text": [
      "MLFlow Tracking:  http://jupyterhubmlflow-mlflow:5000\n",
      "MLFlow Artifacts:  hdfs://jupyterhubmlflow-namenode:8020/mlflow-artifacts/0/7c2e8e5f96d94dd7bafdd95473c959ea/artifacts\n",
      "Mlflow rund-id: 7c2e8e5f96d94dd7bafdd95473c959ea\n"
     ]
    }
   ],
   "source": [
    "# Get configured tracking uri and artifact uri and generated run_id and experiment\n",
    "print (\"MLFlow Tracking: \", mlflow.tracking.get_tracking_uri())\n",
    "print (\"MLFlow Artifacts: \", mlflow.get_artifact_uri())\n",
    "print (\"Mlflow rund-id: \" + mlflow.active_run().info.run_id)"
   ]
  },
  {
   "cell_type": "markdown",
   "metadata": {},
   "source": [
    "## Basic Tracking"
   ]
  },
  {
   "cell_type": "markdown",
   "metadata": {},
   "source": [
    "Here an example of the way to upload to MLFLOW of the data and artifacts related to a ML experiment will be shown:"
   ]
  },
  {
   "cell_type": "code",
   "execution_count": null,
   "metadata": {},
   "outputs": [],
   "source": [
    "# Set experiment name\n",
    "mlflow.set_experiment(\"Experiment1\")\n",
    "\n",
    "# End any running experiment\n",
    "mlflow.end_run()\n",
    "\n",
    "with mlflow.start_run():\n",
    "    \n",
    "    # Set tags in the experiment\n",
    "    mlflow.set_tag(\"Experiment\", \"test\")\n",
    "    \n",
    "    # Log metrics in the experiment\n",
    "    mlflow.log_metrics({\"Score\": 1, \"Recall\": 2, \"Precission\": 3, \"F\": 4})\n",
    "    mlflow.log_metrics({\"Area Under ROC\": 1, \"Area Under PR\": 2})\n",
    "    mlflow.log_metrics({\"r2\": 1, \"rmse\": 2, \"mse\": 2, \"mae\": 3})\n",
    "    \n",
    "    # Log parameters in the experiment\n",
    "    mlflow.log_param('param1', 1)"
   ]
  },
  {
   "cell_type": "markdown",
   "metadata": {},
   "source": [
    "Visit now MLFLOW tracking site and validate that the Experiment1 has been created"
   ]
  },
  {
   "cell_type": "markdown",
   "metadata": {},
   "source": [
    "## Model tracking"
   ]
  },
  {
   "cell_type": "code",
   "execution_count": null,
   "metadata": {},
   "outputs": [],
   "source": [
    "# Set experiment name\n",
    "mlflow.set_experiment(\"Experiment2\")\n",
    "\n",
    "# End any running experiment\n",
    "mlflow.end_run()\n",
    "\n",
    "# Run the experiment\n",
    "with mlflow.start_run():\n",
    "\n",
    "    # Load mleap model\n",
    "    mlflow.mleap.log_model(spark_model=featureModel, sample_input=sample, artifact_path=\"mleappath\")\n",
    "    \n",
    "    # Load spark model    \n",
    "    mlflow.spark.log_model(bestModel, \"spark-model\")\n",
    "    \n",
    "    # Load flask model    \n",
    "    mlflow.???.log_model(???\")"
   ]
  },
  {
   "cell_type": "markdown",
   "metadata": {},
   "source": [
    "## Getting parameters from Spark for MLFLOW tracking"
   ]
  },
  {
   "cell_type": "code",
   "execution_count": null,
   "metadata": {},
   "outputs": [],
   "source": [
    "# Set experiment name\n",
    "mlflow.set_experiment(\"Experiment3\")\n",
    "\n",
    "# Run the experiment\n",
    "with mlflow.start_run():\n",
    "    \n",
    "    (dfTraining, dfValidation) = df.randomSplit([90.0, 10.0])\n",
    "    crossvalPredictionModel = crossval.fit(dfTraining)\n",
    "    \n",
    "    #Get the best model, validate and get random forest stage\n",
    "    bestModel = crossvalPredictionModel.bestModel\n",
    "    bestModelPredictions = bestModel.transform(dfValidation)\n",
    "    rfModel = bestModel.stages[2]\n",
    "    \n",
    "    #### Log model parameters\n",
    "    for param in rfModel.extractParamMap():\n",
    "        mlflow.log_param(param.name, rfModel.extractParamMap()[param])"
   ]
  }
 ],
 "metadata": {
  "kernelspec": {
   "display_name": "Python 3",
   "language": "python",
   "name": "python3"
  },
  "language_info": {
   "codemirror_mode": {
    "name": "ipython",
    "version": 3
   },
   "file_extension": ".py",
   "mimetype": "text/x-python",
   "name": "python",
   "nbconvert_exporter": "python",
   "pygments_lexer": "ipython3",
   "version": "3.7.6"
  }
 },
 "nbformat": 4,
 "nbformat_minor": 4
}
