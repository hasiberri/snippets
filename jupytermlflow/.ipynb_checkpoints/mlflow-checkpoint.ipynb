{
 "cells": [
  {
   "cell_type": "markdown",
   "metadata": {},
   "source": [
    "# MLFLOW in Jupyter"
   ]
  },
  {
   "cell_type": "code",
   "execution_count": 1,
   "metadata": {},
   "outputs": [],
   "source": [
    "import os\n",
    "from pathlib import Path\n",
    "import mlflow\n",
    "from mlflow import log_metric, log_param, log_artifact"
   ]
  },
  {
   "cell_type": "markdown",
   "metadata": {},
   "source": [
    "## Basic Tracking"
   ]
  },
  {
   "cell_type": "code",
   "execution_count": 4,
   "metadata": {},
   "outputs": [],
   "source": [
    "!export MLFLOW_TRACKING_URI"
   ]
  },
  {
   "cell_type": "code",
   "execution_count": 5,
   "metadata": {},
   "outputs": [
    {
     "name": "stdout",
     "output_type": "stream",
     "text": [
      "one example\n"
     ]
    }
   ],
   "source": [
    "!echo $MLFLOW_TRACKING_URI"
   ]
  },
  {
   "cell_type": "code",
   "execution_count": 2,
   "metadata": {},
   "outputs": [
    {
     "name": "stdout",
     "output_type": "stream",
     "text": [
      "INFO: 'Experiment1' does not exist. Creating a new experiment\n",
      "MLFlow Tracking:  one example\n",
      "MLFlow Artifacts:  one example/1/ef83828922c0406990c0dd6285f7e30d/artifacts\n",
      "Mlflow rund-id: ef83828922c0406990c0dd6285f7e30d\n"
     ]
    },
    {
     "ename": "NameError",
     "evalue": "name 'experiment' is not defined",
     "output_type": "error",
     "traceback": [
      "\u001b[0;31m---------------------------------------------------------------------------\u001b[0m",
      "\u001b[0;31mNameError\u001b[0m                                 Traceback (most recent call last)",
      "\u001b[0;32m<ipython-input-2-9c3d18f226ae>\u001b[0m in \u001b[0;36m<module>\u001b[0;34m\u001b[0m\n\u001b[1;32m     11\u001b[0m \u001b[0;34m\u001b[0m\u001b[0m\n\u001b[1;32m     12\u001b[0m     \u001b[0;31m# Set tags in the experiment\u001b[0m\u001b[0;34m\u001b[0m\u001b[0;34m\u001b[0m\u001b[0;34m\u001b[0m\u001b[0m\n\u001b[0;32m---> 13\u001b[0;31m     \u001b[0mmlflow\u001b[0m\u001b[0;34m.\u001b[0m\u001b[0mset_tag\u001b[0m\u001b[0;34m(\u001b[0m\u001b[0;34m\"Experiment\"\u001b[0m\u001b[0;34m,\u001b[0m \u001b[0mexperiment\u001b[0m\u001b[0;34m)\u001b[0m\u001b[0;34m\u001b[0m\u001b[0;34m\u001b[0m\u001b[0m\n\u001b[0m\u001b[1;32m     14\u001b[0m \u001b[0;34m\u001b[0m\u001b[0m\n\u001b[1;32m     15\u001b[0m     \u001b[0;31m# Log an artifact in the experiment\u001b[0m\u001b[0;34m\u001b[0m\u001b[0;34m\u001b[0m\u001b[0;34m\u001b[0m\u001b[0m\n",
      "\u001b[0;31mNameError\u001b[0m: name 'experiment' is not defined"
     ]
    }
   ],
   "source": [
    "# Set experiment name\n",
    "mlflow.set_experiment(\"Experiment1\")\n",
    "\n",
    "# Run the experiment\n",
    "with mlflow.start_run():\n",
    "\n",
    "    # Get configured tracking uri and artifact uri and generated run_id and experiment\n",
    "    print (\"MLFlow Tracking: \", mlflow.tracking.get_tracking_uri())\n",
    "    print (\"MLFlow Artifacts: \", mlflow.get_artifact_uri())\n",
    "    print (\"Mlflow rund-id: \" + mlflow.active_run().info.run_id)\n",
    "    \n",
    "    # Set tags in the experiment\n",
    "    mlflow.set_tag(\"Experiment\", \"test\")\n",
    "    \n",
    "    # Log an artifact in the experiment\n",
    "    mlflow.log_artifact(\"./data/mlflow.png\", artifact_path=\"MLFlow Picture\")\n",
    "    \n",
    "    # Log metrics in the experiment\n",
    "    mlflow.log_metrics({\"Score\": 1, \"Recall\": 2, \"Precission\": 3, \"F\": 4})\n",
    "    mlflow.log_metrics({\"Area Under ROC\": 1, \"Area Under PR\": 2})\n",
    "    mlflow.log_metrics({\"r2\": 1, \"rmse\": 2, \"mse\": 2, \"mae\": 3})\n",
    "    \n",
    "    # Log parameters in the experiment\n",
    "    mlflow.log_param('param1', 1)"
   ]
  },
  {
   "cell_type": "markdown",
   "metadata": {},
   "source": [
    "## Model tracking"
   ]
  },
  {
   "cell_type": "code",
   "execution_count": null,
   "metadata": {},
   "outputs": [],
   "source": [
    "# Set experiment name\n",
    "mlflow.set_experiment(\"Experiment2\")\n",
    "\n",
    "# Run the experiment\n",
    "with mlflow.start_run():\n",
    "\n",
    "    # Load mleap model\n",
    "    mlflow.mleap.log_model(spark_model=featureModel, sample_input=sample, artifact_path=\"mleappath\")\n",
    "    \n",
    "    # Load spark model    \n",
    "    mlflow.spark.log_model(bestModel, \"spark-model\")\n",
    "    \n",
    "    # Load flask model    \n",
    "    mlflow.???.log_model(???\")"
   ]
  },
  {
   "cell_type": "markdown",
   "metadata": {},
   "source": [
    "## Getting parameters from Spark for MLFLOW tracking"
   ]
  },
  {
   "cell_type": "code",
   "execution_count": null,
   "metadata": {},
   "outputs": [],
   "source": [
    "# Set experiment name\n",
    "mlflow.set_experiment(\"Experiment3\")\n",
    "\n",
    "# Run the experiment\n",
    "with mlflow.start_run():\n",
    "    \n",
    "    (dfTraining, dfValidation) = df.randomSplit([90.0, 10.0])\n",
    "    crossvalPredictionModel = crossval.fit(dfTraining)\n",
    "    \n",
    "    #Get the best model, validate and get random forest stage\n",
    "    bestModel = crossvalPredictionModel.bestModel\n",
    "    bestModelPredictions = bestModel.transform(dfValidation)\n",
    "    rfModel = bestModel.stages[2]\n",
    "    \n",
    "    #### Log model parameters\n",
    "    for param in rfModel.extractParamMap():\n",
    "        mlflow.log_param(param.name, rfModel.extractParamMap()[param])"
   ]
  }
 ],
 "metadata": {
  "kernelspec": {
   "display_name": "Python 3",
   "language": "python",
   "name": "python3"
  },
  "language_info": {
   "codemirror_mode": {
    "name": "ipython",
    "version": 3
   },
   "file_extension": ".py",
   "mimetype": "text/x-python",
   "name": "python",
   "nbconvert_exporter": "python",
   "pygments_lexer": "ipython3",
   "version": "3.7.6"
  }
 },
 "nbformat": 4,
 "nbformat_minor": 4
}
