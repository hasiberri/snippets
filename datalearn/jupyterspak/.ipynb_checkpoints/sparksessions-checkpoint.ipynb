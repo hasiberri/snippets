{
 "cells": [
  {
   "cell_type": "markdown",
   "metadata": {},
   "source": [
    "## Spark session to query through hive"
   ]
  },
  {
   "cell_type": "code",
   "execution_count": null,
   "metadata": {},
   "outputs": [],
   "source": [
    "import os, sys\n",
    "import socket\n",
    "from random import random\n",
    "from operator import add\n",
    "from pyspark.sql import SparkSession, SQLContext, HiveContext\n",
    "\n",
    "# Initiate spark session\n",
    "sparkSession = SparkSession.builder \\\n",
    "    .appName(\"test\") \\\n",
    "    .config(\"spark.executor.instances\", \"10\") \\\n",
    "    .config(\"spark.executor.memory\", \"6g\") \\\n",
    "    .config(\"spark.driver.memory\", \"6g\") \\\n",
    "    .config('spark.driver.host', socket.gethostbyname(socket.gethostname())) \\\n",
    "    .config(\"hive.metastore.uris\", \"thrift://host:9083\") \\\n",
    "    .enableHiveSupport() \\\n",
    "    .getOrCreate()\n",
    "\n",
    "# Create contexts\n",
    "sc = sparkSession.sparkContext\n",
    "sqlContext = SQLContext(sc)"
   ]
  },
  {
   "cell_type": "code",
   "execution_count": null,
   "metadata": {},
   "outputs": [],
   "source": [
    "from pyspark.sql.functions import from_unixtime\n",
    "from pyspark.sql.functions import col\n",
    "\n",
    "# do the query and cache to make analysis faster\n",
    "df = sqlContext.sql(\"\"\"\n",
    "    SELECT \n",
    "        a,\n",
    "        b,\n",
    "        c\n",
    "    FROM hivetable \n",
    "    WHERE a > b\n",
    "\"\"\")\n",
    "df = df.cache()"
   ]
  }
 ],
 "metadata": {
  "kernelspec": {
   "display_name": "Python 3",
   "language": "python",
   "name": "python3"
  },
  "language_info": {
   "codemirror_mode": {
    "name": "ipython",
    "version": 3
   },
   "file_extension": ".py",
   "mimetype": "text/x-python",
   "name": "python",
   "nbconvert_exporter": "python",
   "pygments_lexer": "ipython3",
   "version": "3.7.6"
  }
 },
 "nbformat": 4,
 "nbformat_minor": 4
}
